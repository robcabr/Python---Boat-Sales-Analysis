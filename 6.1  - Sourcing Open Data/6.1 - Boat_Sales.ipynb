{
 "cells": [
  {
   "cell_type": "markdown",
   "metadata": {},
   "source": [
    "# 6.1 - Boat Sales: Data Sourcing"
   ]
  },
  {
   "cell_type": "markdown",
   "metadata": {},
   "source": [
    "## Table of Contents\n",
    "### 1. Importing Data\n",
    "### 2. Data Consistency \n",
    "### 3. Rename Columns\n",
    "### 4. Data Cleaning\n",
    "### 5. Data Profile\n",
    "### 6. Exporting Data\n"
   ]
  },
  {
   "cell_type": "markdown",
   "metadata": {},
   "source": [
    "### 01. Importing Data"
   ]
  },
  {
   "cell_type": "code",
   "execution_count": 1,
   "metadata": {},
   "outputs": [],
   "source": [
    "# import libraries\n",
    "\n",
    "import pandas as pd\n",
    "import numpy as np \n",
    "import os "
   ]
  },
  {
   "cell_type": "code",
   "execution_count": 2,
   "metadata": {},
   "outputs": [],
   "source": [
    "# define path \n",
    "\n",
    "path = r'/Users/robson/Desktop/CareerFoundry/Data Immersion/Achivement 6/Data Sets'"
   ]
  },
  {
   "cell_type": "code",
   "execution_count": 3,
   "metadata": {},
   "outputs": [],
   "source": [
    "# importing dataframe\n",
    "\n",
    "df = pd.read_csv(os.path.join(path, 'Raw Data','Boat Sales', 'boat_data.csv'), index_col=False)"
   ]
  },
  {
   "cell_type": "markdown",
   "metadata": {},
   "source": [
    "### 02. Data Consistency"
   ]
  },
  {
   "cell_type": "markdown",
   "metadata": {},
   "source": [
    "#### 01. Consistency Check"
   ]
  },
  {
   "cell_type": "markdown",
   "metadata": {},
   "source": [
    "##### 01. Columns "
   ]
  },
  {
   "cell_type": "markdown",
   "metadata": {},
   "source": [
    "###### After checking all columns in excel, I decided to keep all, since they should be relevant for my analysis. "
   ]
  },
  {
   "cell_type": "code",
   "execution_count": 4,
   "metadata": {},
   "outputs": [
    {
     "data": {
      "text/plain": [
       "Index(['Price', 'Boat Type', 'Manufacturer', 'Type', 'Year Built', 'Length',\n",
       "       'Width', 'Material', 'Location', 'Number of views last 7 days'],\n",
       "      dtype='object')"
      ]
     },
     "execution_count": 4,
     "metadata": {},
     "output_type": "execute_result"
    }
   ],
   "source": [
    "# check all columns name in the dataframe\n",
    "\n",
    "df.columns"
   ]
  },
  {
   "cell_type": "code",
   "execution_count": 5,
   "metadata": {},
   "outputs": [
    {
     "data": {
      "text/html": [
       "<div>\n",
       "<style scoped>\n",
       "    .dataframe tbody tr th:only-of-type {\n",
       "        vertical-align: middle;\n",
       "    }\n",
       "\n",
       "    .dataframe tbody tr th {\n",
       "        vertical-align: top;\n",
       "    }\n",
       "\n",
       "    .dataframe thead th {\n",
       "        text-align: right;\n",
       "    }\n",
       "</style>\n",
       "<table border=\"1\" class=\"dataframe\">\n",
       "  <thead>\n",
       "    <tr style=\"text-align: right;\">\n",
       "      <th></th>\n",
       "      <th>Year Built</th>\n",
       "      <th>Length</th>\n",
       "      <th>Width</th>\n",
       "      <th>Number of views last 7 days</th>\n",
       "    </tr>\n",
       "  </thead>\n",
       "  <tbody>\n",
       "    <tr>\n",
       "      <th>count</th>\n",
       "      <td>9888.000000</td>\n",
       "      <td>9879.000000</td>\n",
       "      <td>9832.000000</td>\n",
       "      <td>9888.000000</td>\n",
       "    </tr>\n",
       "    <tr>\n",
       "      <th>mean</th>\n",
       "      <td>1893.192860</td>\n",
       "      <td>11.570017</td>\n",
       "      <td>3.520124</td>\n",
       "      <td>149.160801</td>\n",
       "    </tr>\n",
       "    <tr>\n",
       "      <th>std</th>\n",
       "      <td>460.201582</td>\n",
       "      <td>6.002820</td>\n",
       "      <td>1.220534</td>\n",
       "      <td>151.819752</td>\n",
       "    </tr>\n",
       "    <tr>\n",
       "      <th>min</th>\n",
       "      <td>0.000000</td>\n",
       "      <td>1.040000</td>\n",
       "      <td>0.010000</td>\n",
       "      <td>13.000000</td>\n",
       "    </tr>\n",
       "    <tr>\n",
       "      <th>25%</th>\n",
       "      <td>1996.000000</td>\n",
       "      <td>7.470000</td>\n",
       "      <td>2.540000</td>\n",
       "      <td>70.000000</td>\n",
       "    </tr>\n",
       "    <tr>\n",
       "      <th>50%</th>\n",
       "      <td>2007.000000</td>\n",
       "      <td>10.280000</td>\n",
       "      <td>3.330000</td>\n",
       "      <td>108.000000</td>\n",
       "    </tr>\n",
       "    <tr>\n",
       "      <th>75%</th>\n",
       "      <td>2017.000000</td>\n",
       "      <td>13.930000</td>\n",
       "      <td>4.250000</td>\n",
       "      <td>172.000000</td>\n",
       "    </tr>\n",
       "    <tr>\n",
       "      <th>max</th>\n",
       "      <td>2021.000000</td>\n",
       "      <td>100.000000</td>\n",
       "      <td>25.160000</td>\n",
       "      <td>3263.000000</td>\n",
       "    </tr>\n",
       "  </tbody>\n",
       "</table>\n",
       "</div>"
      ],
      "text/plain": [
       "        Year Built       Length        Width  Number of views last 7 days\n",
       "count  9888.000000  9879.000000  9832.000000                  9888.000000\n",
       "mean   1893.192860    11.570017     3.520124                   149.160801\n",
       "std     460.201582     6.002820     1.220534                   151.819752\n",
       "min       0.000000     1.040000     0.010000                    13.000000\n",
       "25%    1996.000000     7.470000     2.540000                    70.000000\n",
       "50%    2007.000000    10.280000     3.330000                   108.000000\n",
       "75%    2017.000000    13.930000     4.250000                   172.000000\n",
       "max    2021.000000   100.000000    25.160000                  3263.000000"
      ]
     },
     "execution_count": 5,
     "metadata": {},
     "output_type": "execute_result"
    }
   ],
   "source": [
    "# data description\n",
    "\n",
    "df.describe()"
   ]
  },
  {
   "cell_type": "markdown",
   "metadata": {},
   "source": [
    "###### Considering that my goal for this achievement is to carry out trends, geospatial, exploratory, regression, cluster and time-series analysis, all the columns are important for now, reason why I kept all of them. \n",
    "    "
   ]
  },
  {
   "cell_type": "markdown",
   "metadata": {},
   "source": [
    "##### 02. Mixed Types"
   ]
  },
  {
   "cell_type": "code",
   "execution_count": 6,
   "metadata": {},
   "outputs": [
    {
     "name": "stdout",
     "output_type": "stream",
     "text": [
      "Manufacturer\n",
      "Type\n",
      "Material\n",
      "Location\n"
     ]
    }
   ],
   "source": [
    "# function to check if there is mixed types\n",
    "\n",
    "for col in df.columns.tolist():\n",
    "  weird = (df[[col]].map(type) != df[[col]].iloc[0].apply(type)).any(axis = 1)\n",
    "  if len (df[weird]) > 0:\n",
    "    print (col)"
   ]
  },
  {
   "cell_type": "code",
   "execution_count": 7,
   "metadata": {},
   "outputs": [
    {
     "data": {
      "text/html": [
       "<div>\n",
       "<style scoped>\n",
       "    .dataframe tbody tr th:only-of-type {\n",
       "        vertical-align: middle;\n",
       "    }\n",
       "\n",
       "    .dataframe tbody tr th {\n",
       "        vertical-align: top;\n",
       "    }\n",
       "\n",
       "    .dataframe thead th {\n",
       "        text-align: right;\n",
       "    }\n",
       "</style>\n",
       "<table border=\"1\" class=\"dataframe\">\n",
       "  <thead>\n",
       "    <tr style=\"text-align: right;\">\n",
       "      <th></th>\n",
       "      <th>Price</th>\n",
       "      <th>Boat Type</th>\n",
       "      <th>Manufacturer</th>\n",
       "      <th>Type</th>\n",
       "      <th>Year Built</th>\n",
       "      <th>Length</th>\n",
       "      <th>Width</th>\n",
       "      <th>Material</th>\n",
       "      <th>Location</th>\n",
       "      <th>Number of views last 7 days</th>\n",
       "    </tr>\n",
       "  </thead>\n",
       "  <tbody>\n",
       "    <tr>\n",
       "      <th>0</th>\n",
       "      <td>CHF 3337</td>\n",
       "      <td>Motor Yacht</td>\n",
       "      <td>Rigiflex power boats</td>\n",
       "      <td>new boat from stock</td>\n",
       "      <td>2017</td>\n",
       "      <td>4.00</td>\n",
       "      <td>1.90</td>\n",
       "      <td>NaN</td>\n",
       "      <td>Switzerland Â» Lake Geneva Â» VÃ©senaz</td>\n",
       "      <td>226</td>\n",
       "    </tr>\n",
       "    <tr>\n",
       "      <th>1</th>\n",
       "      <td>EUR 3490</td>\n",
       "      <td>Center console boat</td>\n",
       "      <td>Terhi power boats</td>\n",
       "      <td>new boat from stock</td>\n",
       "      <td>2020</td>\n",
       "      <td>4.00</td>\n",
       "      <td>1.50</td>\n",
       "      <td>Thermoplastic</td>\n",
       "      <td>Germany Â» BÃ¶nningstedt</td>\n",
       "      <td>75</td>\n",
       "    </tr>\n",
       "    <tr>\n",
       "      <th>2</th>\n",
       "      <td>CHF 3770</td>\n",
       "      <td>Sport Boat</td>\n",
       "      <td>Marine power boats</td>\n",
       "      <td>new boat from stock</td>\n",
       "      <td>0</td>\n",
       "      <td>3.69</td>\n",
       "      <td>1.42</td>\n",
       "      <td>Aluminium</td>\n",
       "      <td>Switzerland Â» Lake of Zurich Â» StÃ¤fa ZH</td>\n",
       "      <td>124</td>\n",
       "    </tr>\n",
       "    <tr>\n",
       "      <th>3</th>\n",
       "      <td>DKK 25900</td>\n",
       "      <td>Sport Boat</td>\n",
       "      <td>Pioner power boats</td>\n",
       "      <td>new boat from stock</td>\n",
       "      <td>2020</td>\n",
       "      <td>3.00</td>\n",
       "      <td>1.00</td>\n",
       "      <td>NaN</td>\n",
       "      <td>Denmark Â» Svendborg</td>\n",
       "      <td>64</td>\n",
       "    </tr>\n",
       "    <tr>\n",
       "      <th>4</th>\n",
       "      <td>EUR 3399</td>\n",
       "      <td>Fishing Boat</td>\n",
       "      <td>Linder power boats</td>\n",
       "      <td>new boat from stock</td>\n",
       "      <td>2019</td>\n",
       "      <td>3.55</td>\n",
       "      <td>1.46</td>\n",
       "      <td>Aluminium</td>\n",
       "      <td>Germany Â» Bayern Â» MÃ¼nchen</td>\n",
       "      <td>58</td>\n",
       "    </tr>\n",
       "    <tr>\n",
       "      <th>5</th>\n",
       "      <td>CHF 3650</td>\n",
       "      <td>Sport Boat</td>\n",
       "      <td>Linder power boats</td>\n",
       "      <td>new boat from stock</td>\n",
       "      <td>0</td>\n",
       "      <td>4.03</td>\n",
       "      <td>1.56</td>\n",
       "      <td>Aluminium</td>\n",
       "      <td>Switzerland Â» Lake Constance Â» Uttwil</td>\n",
       "      <td>132</td>\n",
       "    </tr>\n",
       "    <tr>\n",
       "      <th>6</th>\n",
       "      <td>CHF 3600</td>\n",
       "      <td>Catamaran</td>\n",
       "      <td>NaN</td>\n",
       "      <td>Used boat,Unleaded</td>\n",
       "      <td>1999</td>\n",
       "      <td>6.20</td>\n",
       "      <td>2.38</td>\n",
       "      <td>Aluminium</td>\n",
       "      <td>Switzerland Â» Neuenburgersee Â» Yvonand</td>\n",
       "      <td>474</td>\n",
       "    </tr>\n",
       "    <tr>\n",
       "      <th>7</th>\n",
       "      <td>DKK 24800</td>\n",
       "      <td>Sport Boat</td>\n",
       "      <td>NaN</td>\n",
       "      <td>Used boat</td>\n",
       "      <td>0</td>\n",
       "      <td>3.00</td>\n",
       "      <td>NaN</td>\n",
       "      <td>NaN</td>\n",
       "      <td>Denmark Â» Svendborg</td>\n",
       "      <td>134</td>\n",
       "    </tr>\n",
       "    <tr>\n",
       "      <th>8</th>\n",
       "      <td>EUR 3333</td>\n",
       "      <td>Fishing Boat</td>\n",
       "      <td>Crescent power boats</td>\n",
       "      <td>new boat from stock</td>\n",
       "      <td>2019</td>\n",
       "      <td>3.64</td>\n",
       "      <td>1.37</td>\n",
       "      <td>NaN</td>\n",
       "      <td>Germany Â» Bayern Â» Boote+service Oberbayern</td>\n",
       "      <td>45</td>\n",
       "    </tr>\n",
       "    <tr>\n",
       "      <th>9</th>\n",
       "      <td>EUR 3300</td>\n",
       "      <td>Pontoon Boat</td>\n",
       "      <td>Whaly power boats</td>\n",
       "      <td>new boat from stock</td>\n",
       "      <td>2018</td>\n",
       "      <td>4.35</td>\n",
       "      <td>1.73</td>\n",
       "      <td>NaN</td>\n",
       "      <td>Italy Â» Dormelletto</td>\n",
       "      <td>180</td>\n",
       "    </tr>\n",
       "    <tr>\n",
       "      <th>10</th>\n",
       "      <td>CHF 3500</td>\n",
       "      <td>Fishing Boat</td>\n",
       "      <td>Terhi power boats</td>\n",
       "      <td>Used boat,Electric</td>\n",
       "      <td>1987</td>\n",
       "      <td>4.35</td>\n",
       "      <td>1.75</td>\n",
       "      <td>GRP</td>\n",
       "      <td>Switzerland Â» Seengen</td>\n",
       "      <td>239</td>\n",
       "    </tr>\n",
       "    <tr>\n",
       "      <th>11</th>\n",
       "      <td>CHF 3480</td>\n",
       "      <td>Fishing Boat</td>\n",
       "      <td>Marine power boats</td>\n",
       "      <td>new boat from stock</td>\n",
       "      <td>0</td>\n",
       "      <td>4.13</td>\n",
       "      <td>1.41</td>\n",
       "      <td>Aluminium</td>\n",
       "      <td>Switzerland Â» Lake of Zurich Â» StÃ¤fa am ZÃ¼...</td>\n",
       "      <td>145</td>\n",
       "    </tr>\n",
       "    <tr>\n",
       "      <th>12</th>\n",
       "      <td>EUR 3500</td>\n",
       "      <td>Sport Boat</td>\n",
       "      <td>GS Nautica power boats</td>\n",
       "      <td>Used boat</td>\n",
       "      <td>2004</td>\n",
       "      <td>4.70</td>\n",
       "      <td>2.00</td>\n",
       "      <td>GRP</td>\n",
       "      <td>Italy Â» Lake Garda Â» Moniga del Garda (BS)</td>\n",
       "      <td>69</td>\n",
       "    </tr>\n",
       "    <tr>\n",
       "      <th>13</th>\n",
       "      <td>CHF 4600</td>\n",
       "      <td>Runabout</td>\n",
       "      <td>Kimple power boats</td>\n",
       "      <td>new boat from stock</td>\n",
       "      <td>2020</td>\n",
       "      <td>4.40</td>\n",
       "      <td>1.65</td>\n",
       "      <td>Aluminium</td>\n",
       "      <td>Switzerland Â» Zugersee Â» Neuheim</td>\n",
       "      <td>113</td>\n",
       "    </tr>\n",
       "    <tr>\n",
       "      <th>14</th>\n",
       "      <td>CHF 4500</td>\n",
       "      <td>Fishing Boat</td>\n",
       "      <td>Italmarine power boats</td>\n",
       "      <td>Used boat,Unleaded</td>\n",
       "      <td>1997</td>\n",
       "      <td>3.72</td>\n",
       "      <td>1.33</td>\n",
       "      <td>Aluminium</td>\n",
       "      <td>Switzerland Â» VierwaldstÃ¤ttersee Â» 6004</td>\n",
       "      <td>413</td>\n",
       "    </tr>\n",
       "    <tr>\n",
       "      <th>15</th>\n",
       "      <td>CHF 4400</td>\n",
       "      <td>Deck Boat</td>\n",
       "      <td>Buster power boats</td>\n",
       "      <td>new boat from stock,Unleaded</td>\n",
       "      <td>0</td>\n",
       "      <td>3.88</td>\n",
       "      <td>1.49</td>\n",
       "      <td>Aluminium</td>\n",
       "      <td>Switzerland Â» Safenwil</td>\n",
       "      <td>263</td>\n",
       "    </tr>\n",
       "    <tr>\n",
       "      <th>16</th>\n",
       "      <td>CHF 4380</td>\n",
       "      <td>Sport Boat</td>\n",
       "      <td>Linder power boats</td>\n",
       "      <td>new boat from stock</td>\n",
       "      <td>0</td>\n",
       "      <td>4.31</td>\n",
       "      <td>1.64</td>\n",
       "      <td>Aluminium</td>\n",
       "      <td>Switzerland Â» Lake Constance Â» Uttwil</td>\n",
       "      <td>462</td>\n",
       "    </tr>\n",
       "    <tr>\n",
       "      <th>17</th>\n",
       "      <td>DKK 30000</td>\n",
       "      <td>Sport Boat</td>\n",
       "      <td>NaN</td>\n",
       "      <td>Used boat</td>\n",
       "      <td>1985</td>\n",
       "      <td>4.00</td>\n",
       "      <td>1.00</td>\n",
       "      <td>NaN</td>\n",
       "      <td>Denmark Â» Svendborg</td>\n",
       "      <td>124</td>\n",
       "    </tr>\n",
       "    <tr>\n",
       "      <th>18</th>\n",
       "      <td>EUR 4000</td>\n",
       "      <td>Pilothouse</td>\n",
       "      <td>BÃ©nÃ©teau power boats</td>\n",
       "      <td>Used boat,Diesel</td>\n",
       "      <td>1981</td>\n",
       "      <td>8.00</td>\n",
       "      <td>2.84</td>\n",
       "      <td>PVC</td>\n",
       "      <td>France Â» MARTGUES, MARTIGUES</td>\n",
       "      <td>265</td>\n",
       "    </tr>\n",
       "    <tr>\n",
       "      <th>19</th>\n",
       "      <td>EUR 4000</td>\n",
       "      <td>Cabin Boat</td>\n",
       "      <td>NaN</td>\n",
       "      <td>Used boat,Unleaded</td>\n",
       "      <td>2011</td>\n",
       "      <td>6.37</td>\n",
       "      <td>2.31</td>\n",
       "      <td>GRP</td>\n",
       "      <td>Germany Â» Bayern Â» Forchheim/Ofr.</td>\n",
       "      <td>330</td>\n",
       "    </tr>\n",
       "  </tbody>\n",
       "</table>\n",
       "</div>"
      ],
      "text/plain": [
       "        Price            Boat Type            Manufacturer  \\\n",
       "0    CHF 3337          Motor Yacht    Rigiflex power boats   \n",
       "1    EUR 3490  Center console boat       Terhi power boats   \n",
       "2    CHF 3770           Sport Boat      Marine power boats   \n",
       "3   DKK 25900           Sport Boat      Pioner power boats   \n",
       "4    EUR 3399         Fishing Boat      Linder power boats   \n",
       "5    CHF 3650           Sport Boat      Linder power boats   \n",
       "6    CHF 3600            Catamaran                     NaN   \n",
       "7   DKK 24800           Sport Boat                     NaN   \n",
       "8    EUR 3333         Fishing Boat    Crescent power boats   \n",
       "9    EUR 3300         Pontoon Boat       Whaly power boats   \n",
       "10   CHF 3500         Fishing Boat       Terhi power boats   \n",
       "11   CHF 3480         Fishing Boat      Marine power boats   \n",
       "12   EUR 3500           Sport Boat  GS Nautica power boats   \n",
       "13   CHF 4600             Runabout      Kimple power boats   \n",
       "14   CHF 4500         Fishing Boat  Italmarine power boats   \n",
       "15   CHF 4400            Deck Boat      Buster power boats   \n",
       "16   CHF 4380           Sport Boat      Linder power boats   \n",
       "17  DKK 30000           Sport Boat                     NaN   \n",
       "18   EUR 4000           Pilothouse  BÃ©nÃ©teau power boats   \n",
       "19   EUR 4000           Cabin Boat                     NaN   \n",
       "\n",
       "                            Type  Year Built  Length  Width       Material  \\\n",
       "0            new boat from stock        2017    4.00   1.90            NaN   \n",
       "1            new boat from stock        2020    4.00   1.50  Thermoplastic   \n",
       "2            new boat from stock           0    3.69   1.42      Aluminium   \n",
       "3            new boat from stock        2020    3.00   1.00            NaN   \n",
       "4            new boat from stock        2019    3.55   1.46      Aluminium   \n",
       "5            new boat from stock           0    4.03   1.56      Aluminium   \n",
       "6             Used boat,Unleaded        1999    6.20   2.38      Aluminium   \n",
       "7                      Used boat           0    3.00    NaN            NaN   \n",
       "8            new boat from stock        2019    3.64   1.37            NaN   \n",
       "9            new boat from stock        2018    4.35   1.73            NaN   \n",
       "10            Used boat,Electric        1987    4.35   1.75            GRP   \n",
       "11           new boat from stock           0    4.13   1.41      Aluminium   \n",
       "12                     Used boat        2004    4.70   2.00            GRP   \n",
       "13           new boat from stock        2020    4.40   1.65      Aluminium   \n",
       "14            Used boat,Unleaded        1997    3.72   1.33      Aluminium   \n",
       "15  new boat from stock,Unleaded           0    3.88   1.49      Aluminium   \n",
       "16           new boat from stock           0    4.31   1.64      Aluminium   \n",
       "17                     Used boat        1985    4.00   1.00            NaN   \n",
       "18              Used boat,Diesel        1981    8.00   2.84            PVC   \n",
       "19            Used boat,Unleaded        2011    6.37   2.31            GRP   \n",
       "\n",
       "                                             Location  \\\n",
       "0              Switzerland Â» Lake Geneva Â» VÃ©senaz   \n",
       "1                            Germany Â» BÃ¶nningstedt   \n",
       "2          Switzerland Â» Lake of Zurich Â» StÃ¤fa ZH   \n",
       "3                                Denmark Â» Svendborg   \n",
       "4                       Germany Â» Bayern Â» MÃ¼nchen   \n",
       "5             Switzerland Â» Lake Constance Â» Uttwil   \n",
       "6           Switzerland Â» Neuenburgersee Â» Yvonand    \n",
       "7                                Denmark Â» Svendborg   \n",
       "8       Germany Â» Bayern Â» Boote+service Oberbayern   \n",
       "9                               Italy Â» Dormelletto    \n",
       "10                             Switzerland Â» Seengen   \n",
       "11  Switzerland Â» Lake of Zurich Â» StÃ¤fa am ZÃ¼...   \n",
       "12       Italy Â» Lake Garda Â» Moniga del Garda (BS)   \n",
       "13                 Switzerland Â» Zugersee Â» Neuheim   \n",
       "14         Switzerland Â» VierwaldstÃ¤ttersee Â» 6004   \n",
       "15                            Switzerland Â» Safenwil   \n",
       "16            Switzerland Â» Lake Constance Â» Uttwil   \n",
       "17                               Denmark Â» Svendborg   \n",
       "18                      France Â» MARTGUES, MARTIGUES   \n",
       "19                Germany Â» Bayern Â» Forchheim/Ofr.   \n",
       "\n",
       "    Number of views last 7 days  \n",
       "0                           226  \n",
       "1                            75  \n",
       "2                           124  \n",
       "3                            64  \n",
       "4                            58  \n",
       "5                           132  \n",
       "6                           474  \n",
       "7                           134  \n",
       "8                            45  \n",
       "9                           180  \n",
       "10                          239  \n",
       "11                          145  \n",
       "12                           69  \n",
       "13                          113  \n",
       "14                          413  \n",
       "15                          263  \n",
       "16                          462  \n",
       "17                          124  \n",
       "18                          265  \n",
       "19                          330  "
      ]
     },
     "execution_count": 7,
     "metadata": {},
     "output_type": "execute_result"
    }
   ],
   "source": [
    "# check first twenty rows to visualize type of data\n",
    "\n",
    "df.head(20)"
   ]
  },
  {
   "cell_type": "markdown",
   "metadata": {},
   "source": [
    "##### 2.1 Value Counts of Each Mixed Type Column"
   ]
  },
  {
   "cell_type": "code",
   "execution_count": 8,
   "metadata": {},
   "outputs": [
    {
     "data": {
      "text/plain": [
       "Manufacturer\n",
       "NaN                            1338\n",
       "BÃ©nÃ©teau power boats          631\n",
       "Jeanneau power boats            537\n",
       "Sunseeker power boats           383\n",
       "Princess power boats            241\n",
       "                               ... \n",
       "ISA Yachts power boats            1\n",
       "Couach power boats                1\n",
       "Perini Navi Spa power boats       1\n",
       "Palmer Johnson power boats        1\n",
       "Hunter power boats                1\n",
       "Name: count, Length: 911, dtype: int64"
      ]
     },
     "execution_count": 8,
     "metadata": {},
     "output_type": "execute_result"
    }
   ],
   "source": [
    "df['Manufacturer'].value_counts(dropna = False)"
   ]
  },
  {
   "cell_type": "code",
   "execution_count": 9,
   "metadata": {},
   "outputs": [
    {
     "data": {
      "text/plain": [
       "Type\n",
       "Used boat,Diesel                4140\n",
       "Used boat,Unleaded              1686\n",
       "Used boat                       1462\n",
       "new boat from stock,Unleaded    1107\n",
       "new boat from stock              665\n",
       "new boat from stock,Diesel       291\n",
       "new boat on order,Unleaded       150\n",
       "Display Model,Unleaded            75\n",
       "new boat on order                 61\n",
       "new boat on order,Diesel          61\n",
       "Diesel                            57\n",
       "Used boat,Electric                27\n",
       "Unleaded                          22\n",
       "Display Model,Diesel              19\n",
       "new boat from stock,Electric      18\n",
       "Display Model                     18\n",
       "Used boat,Gas                     10\n",
       "NaN                                6\n",
       "Display Model,Electric             6\n",
       "new boat from stock,Gas            2\n",
       "new boat from stock,Hybrid         1\n",
       "Used boat,Hybrid                   1\n",
       "Display Model,Gas                  1\n",
       "Electric                           1\n",
       "Used boat,Propane                  1\n",
       "Name: count, dtype: int64"
      ]
     },
     "execution_count": 9,
     "metadata": {},
     "output_type": "execute_result"
    }
   ],
   "source": [
    "df['Type'].value_counts(dropna = False)"
   ]
  },
  {
   "cell_type": "code",
   "execution_count": 10,
   "metadata": {},
   "outputs": [
    {
     "data": {
      "text/plain": [
       "Material\n",
       "GRP                    5484\n",
       "NaN                    1749\n",
       "PVC                    1123\n",
       "Steel                   939\n",
       "Wood                    235\n",
       "Aluminium               229\n",
       "Plastic                  77\n",
       "Carbon Fiber             30\n",
       "Thermoplastic            15\n",
       "Hypalon                   5\n",
       "Reinforced concrete       1\n",
       "Rubber                    1\n",
       "Name: count, dtype: int64"
      ]
     },
     "execution_count": 10,
     "metadata": {},
     "output_type": "execute_result"
    }
   ],
   "source": [
    "df['Material'].value_counts(dropna = False)"
   ]
  },
  {
   "cell_type": "code",
   "execution_count": 11,
   "metadata": {},
   "outputs": [
    {
     "data": {
      "text/plain": [
       "Location\n",
       "Netherlands Â» In verkoophaven                      309\n",
       "Croatia (Hrvatska)                                  244\n",
       "Italy Â» Toscana Â» Toscana                         173\n",
       "Italy                                               155\n",
       "France                                              152\n",
       "                                                   ... \n",
       "Italy Â» La Spezia, Italie                            1\n",
       "France Â» Bretagne Â» Bretagne                        1\n",
       "Italy Â» Linz Marine Test Centre \"Italo Monzino\"      1\n",
       "Italy Â» Adriatic Sea (Fano)                          1\n",
       "Switzerland Â» Bielersee Â» Gerolfingen               1\n",
       "Name: count, Length: 2996, dtype: int64"
      ]
     },
     "execution_count": 11,
     "metadata": {},
     "output_type": "execute_result"
    }
   ],
   "source": [
    "df['Location'].value_counts(dropna = False)"
   ]
  },
  {
   "cell_type": "code",
   "execution_count": 12,
   "metadata": {},
   "outputs": [
    {
     "data": {
      "text/plain": [
       "2269    NaN\n",
       "2297    NaN\n",
       "2494    NaN\n",
       "2583    NaN\n",
       "2653    NaN\n",
       "2710    NaN\n",
       "2796    NaN\n",
       "2970    NaN\n",
       "3112    NaN\n",
       "3147    NaN\n",
       "3259    NaN\n",
       "3269    NaN\n",
       "3276    NaN\n",
       "3426    NaN\n",
       "3447    NaN\n",
       "3558    NaN\n",
       "3568    NaN\n",
       "3589    NaN\n",
       "3590    NaN\n",
       "3611    NaN\n",
       "3659    NaN\n",
       "3688    NaN\n",
       "3802    NaN\n",
       "3848    NaN\n",
       "4173    NaN\n",
       "4314    NaN\n",
       "4376    NaN\n",
       "4432    NaN\n",
       "4452    NaN\n",
       "4493    NaN\n",
       "4494    NaN\n",
       "4604    NaN\n",
       "4699    NaN\n",
       "4786    NaN\n",
       "4813    NaN\n",
       "8146    NaN\n",
       "Name: Location, dtype: object"
      ]
     },
     "execution_count": 12,
     "metadata": {},
     "output_type": "execute_result"
    }
   ],
   "source": [
    "# Considering that no NaN was found, I will use the code below\n",
    "\n",
    "df['Location'][df['Location'].isnull()]"
   ]
  },
  {
   "cell_type": "markdown",
   "metadata": {},
   "source": [
    "###### Although these were considered mixed-type datas, I will keep all the data type the same. All of them are considered mixed-type because they have \"NaN\" values, so if I change it, they will became a text \"nan\", which will bring no value to my analysis and, could even harm it. \n",
    "\n",
    "###### As for the 'Location' column, I will clean it. "
   ]
  },
  {
   "cell_type": "markdown",
   "metadata": {},
   "source": [
    "##### 03. Missing Data"
   ]
  },
  {
   "cell_type": "code",
   "execution_count": 13,
   "metadata": {},
   "outputs": [
    {
     "data": {
      "text/plain": [
       "Price                             0\n",
       "Boat Type                         0\n",
       "Manufacturer                   1338\n",
       "Type                              6\n",
       "Year Built                        0\n",
       "Length                            9\n",
       "Width                            56\n",
       "Material                       1749\n",
       "Location                         36\n",
       "Number of views last 7 days       0\n",
       "dtype: int64"
      ]
     },
     "execution_count": 13,
     "metadata": {},
     "output_type": "execute_result"
    }
   ],
   "source": [
    "df.isnull().sum()"
   ]
  },
  {
   "cell_type": "markdown",
   "metadata": {},
   "source": [
    "###### Considering that the missing data ('Manufacturer' and 'Material') surpress 5% of the whole column, I'll delete them. It is not possible to imput any value, otherwise could harm the analysis. I am also going to delete the null values in the 'Location' column, to avoid any misinterpretation of the data. \n",
    "\n",
    "###### As for the columns Type, Length, Width , I will apply the imputation technique. \n",
    "\n",
    "###### This will be done on '04. Cleaning Data'"
   ]
  },
  {
   "cell_type": "markdown",
   "metadata": {},
   "source": [
    "##### 04. Duplicate Data"
   ]
  },
  {
   "cell_type": "code",
   "execution_count": 14,
   "metadata": {},
   "outputs": [
    {
     "data": {
      "text/plain": [
       "(9888, 10)"
      ]
     },
     "execution_count": 14,
     "metadata": {},
     "output_type": "execute_result"
    }
   ],
   "source": [
    "# check again the shape of this dataset \n",
    "\n",
    "df.shape"
   ]
  },
  {
   "cell_type": "code",
   "execution_count": 15,
   "metadata": {},
   "outputs": [
    {
     "data": {
      "text/plain": [
       "False    9888\n",
       "Name: count, dtype: int64"
      ]
     },
     "execution_count": 15,
     "metadata": {},
     "output_type": "execute_result"
    }
   ],
   "source": [
    "# check if there is any duplicate values\n",
    "\n",
    "df.duplicated().value_counts()"
   ]
  },
  {
   "cell_type": "markdown",
   "metadata": {},
   "source": [
    "###### There are no duplicates in this dataset"
   ]
  },
  {
   "cell_type": "markdown",
   "metadata": {},
   "source": [
    "### 03. Rename Columns"
   ]
  },
  {
   "cell_type": "code",
   "execution_count": 16,
   "metadata": {},
   "outputs": [
    {
     "data": {
      "text/plain": [
       "Index(['Price', 'Boat Type', 'Manufacturer', 'Type', 'Year Built', 'Length',\n",
       "       'Width', 'Material', 'Location', 'Number of views last 7 days'],\n",
       "      dtype='object')"
      ]
     },
     "execution_count": 16,
     "metadata": {},
     "output_type": "execute_result"
    }
   ],
   "source": [
    "# check their names again \n",
    "\n",
    "df.columns"
   ]
  },
  {
   "cell_type": "markdown",
   "metadata": {},
   "source": [
    "###### All the columns names are straightforward, so  there is no need to change their names, I will only adapt some columns."
   ]
  },
  {
   "cell_type": "code",
   "execution_count": 17,
   "metadata": {},
   "outputs": [],
   "source": [
    "# Columns renamed to follow a standard\n",
    "\n",
    "df.rename(columns={'Boat Type': 'Boat_Type','Year Built': 'Year_Built', 'Number of views last 7 days': 'Views_7_days'}, inplace = True)\n"
   ]
  },
  {
   "cell_type": "code",
   "execution_count": 18,
   "metadata": {},
   "outputs": [
    {
     "data": {
      "text/plain": [
       "Index(['Price', 'Boat_Type', 'Manufacturer', 'Type', 'Year_Built', 'Length',\n",
       "       'Width', 'Material', 'Location', 'Views_7_days'],\n",
       "      dtype='object')"
      ]
     },
     "execution_count": 18,
     "metadata": {},
     "output_type": "execute_result"
    }
   ],
   "source": [
    "# check if the operation was sucessful\n",
    "\n",
    "df.columns"
   ]
  },
  {
   "cell_type": "markdown",
   "metadata": {},
   "source": [
    "### 04. Cleaning Data"
   ]
  },
  {
   "cell_type": "markdown",
   "metadata": {},
   "source": [
    "##### 4.1 Missing Data"
   ]
  },
  {
   "cell_type": "code",
   "execution_count": 19,
   "metadata": {},
   "outputs": [],
   "source": [
    "# define a variable with column 'Type' most repeated string\n",
    "\n",
    "mode_type = df['Type'][df['Type'].notnull()].mode()"
   ]
  },
  {
   "cell_type": "code",
   "execution_count": 20,
   "metadata": {},
   "outputs": [
    {
     "name": "stderr",
     "output_type": "stream",
     "text": [
      "/var/folders/20/jwmkwsbs0qn0p5jn7rklqwnm0000gn/T/ipykernel_9617/1180598171.py:3: FutureWarning: A value is trying to be set on a copy of a DataFrame or Series through chained assignment using an inplace method.\n",
      "The behavior will change in pandas 3.0. This inplace method will never work because the intermediate object on which we are setting values always behaves as a copy.\n",
      "\n",
      "For example, when doing 'df[col].method(value, inplace=True)', try using 'df.method({col: value}, inplace=True)' or df[col] = df[col].method(value) instead, to perform the operation inplace on the original object.\n",
      "\n",
      "\n",
      "  df['Type'].fillna(mode_type, inplace=True)\n"
     ]
    }
   ],
   "source": [
    "# fill the NaN values with 'Type' mode\n",
    "\n",
    "df['Type'].fillna(mode_type, inplace=True)"
   ]
  },
  {
   "cell_type": "code",
   "execution_count": 21,
   "metadata": {},
   "outputs": [],
   "source": [
    "# define a variable with average of column Length\n",
    "\n",
    "avg_length = df['Length'][df['Length'].notnull()].mean()"
   ]
  },
  {
   "cell_type": "code",
   "execution_count": 22,
   "metadata": {},
   "outputs": [
    {
     "name": "stderr",
     "output_type": "stream",
     "text": [
      "/var/folders/20/jwmkwsbs0qn0p5jn7rklqwnm0000gn/T/ipykernel_9617/2374677956.py:3: FutureWarning: A value is trying to be set on a copy of a DataFrame or Series through chained assignment using an inplace method.\n",
      "The behavior will change in pandas 3.0. This inplace method will never work because the intermediate object on which we are setting values always behaves as a copy.\n",
      "\n",
      "For example, when doing 'df[col].method(value, inplace=True)', try using 'df.method({col: value}, inplace=True)' or df[col] = df[col].method(value) instead, to perform the operation inplace on the original object.\n",
      "\n",
      "\n",
      "  df['Length'].fillna(avg_length, inplace=True)\n"
     ]
    }
   ],
   "source": [
    "# fill the NaN values with 'Length' avg\n",
    "\n",
    "df['Length'].fillna(avg_length, inplace=True)"
   ]
  },
  {
   "cell_type": "code",
   "execution_count": 23,
   "metadata": {},
   "outputs": [],
   "source": [
    "# define a variable with average of column Width\n",
    "\n",
    "avg_width = df['Width'][df['Width'].notnull()].mean()"
   ]
  },
  {
   "cell_type": "code",
   "execution_count": 24,
   "metadata": {},
   "outputs": [
    {
     "name": "stderr",
     "output_type": "stream",
     "text": [
      "/var/folders/20/jwmkwsbs0qn0p5jn7rklqwnm0000gn/T/ipykernel_9617/2689437222.py:3: FutureWarning: A value is trying to be set on a copy of a DataFrame or Series through chained assignment using an inplace method.\n",
      "The behavior will change in pandas 3.0. This inplace method will never work because the intermediate object on which we are setting values always behaves as a copy.\n",
      "\n",
      "For example, when doing 'df[col].method(value, inplace=True)', try using 'df.method({col: value}, inplace=True)' or df[col] = df[col].method(value) instead, to perform the operation inplace on the original object.\n",
      "\n",
      "\n",
      "  df['Width'].fillna(avg_width, inplace=True)\n"
     ]
    }
   ],
   "source": [
    "# fill the NaN values with 'Width' avg\n",
    "\n",
    "df['Width'].fillna(avg_width, inplace=True)"
   ]
  },
  {
   "cell_type": "code",
   "execution_count": 25,
   "metadata": {},
   "outputs": [
    {
     "data": {
      "text/plain": [
       "Price              0\n",
       "Boat_Type          0\n",
       "Manufacturer    1338\n",
       "Type               6\n",
       "Year_Built         0\n",
       "Length             0\n",
       "Width              0\n",
       "Material        1749\n",
       "Location          36\n",
       "Views_7_days       0\n",
       "dtype: int64"
      ]
     },
     "execution_count": 25,
     "metadata": {},
     "output_type": "execute_result"
    }
   ],
   "source": [
    "# check if there is any null value\n",
    "\n",
    "df.isnull().sum()"
   ]
  },
  {
   "cell_type": "code",
   "execution_count": 26,
   "metadata": {},
   "outputs": [],
   "source": [
    "# filter manufacturer and material missing values\n",
    "\n",
    "df_filtered = df[df[['Manufacturer', 'Material', 'Location']].notnull().all(axis=1)]"
   ]
  },
  {
   "cell_type": "code",
   "execution_count": 27,
   "metadata": {},
   "outputs": [
    {
     "data": {
      "text/plain": [
       "Price           0\n",
       "Boat_Type       0\n",
       "Manufacturer    0\n",
       "Type            0\n",
       "Year_Built      0\n",
       "Length          0\n",
       "Width           0\n",
       "Material        0\n",
       "Location        0\n",
       "Views_7_days    0\n",
       "dtype: int64"
      ]
     },
     "execution_count": 27,
     "metadata": {},
     "output_type": "execute_result"
    }
   ],
   "source": [
    "# Check if it was successful\n",
    "\n",
    "df_filtered.isnull().sum()"
   ]
  },
  {
   "cell_type": "code",
   "execution_count": 28,
   "metadata": {},
   "outputs": [
    {
     "name": "stdout",
     "output_type": "stream",
     "text": [
      "<class 'pandas.core.frame.DataFrame'>\n",
      "Index: 7037 entries, 1 to 9887\n",
      "Data columns (total 10 columns):\n",
      " #   Column        Non-Null Count  Dtype  \n",
      "---  ------        --------------  -----  \n",
      " 0   Price         7037 non-null   object \n",
      " 1   Boat_Type     7037 non-null   object \n",
      " 2   Manufacturer  7037 non-null   object \n",
      " 3   Type          7037 non-null   object \n",
      " 4   Year_Built    7037 non-null   int64  \n",
      " 5   Length        7037 non-null   float64\n",
      " 6   Width         7037 non-null   float64\n",
      " 7   Material      7037 non-null   object \n",
      " 8   Location      7037 non-null   object \n",
      " 9   Views_7_days  7037 non-null   int64  \n",
      "dtypes: float64(2), int64(2), object(6)\n",
      "memory usage: 604.7+ KB\n"
     ]
    }
   ],
   "source": [
    "# check if the total rows changed\n",
    "\n",
    "df_filtered.info()"
   ]
  },
  {
   "cell_type": "markdown",
   "metadata": {},
   "source": [
    "##### 4.2 Location Column"
   ]
  },
  {
   "cell_type": "code",
   "execution_count": 29,
   "metadata": {},
   "outputs": [
    {
     "data": {
      "text/plain": [
       "Price            object\n",
       "Boat_Type        object\n",
       "Manufacturer     object\n",
       "Type             object\n",
       "Year_Built        int64\n",
       "Length          float64\n",
       "Width           float64\n",
       "Material         object\n",
       "Location         object\n",
       "Views_7_days      int64\n",
       "dtype: object"
      ]
     },
     "execution_count": 29,
     "metadata": {},
     "output_type": "execute_result"
    }
   ],
   "source": [
    "# check data types\n",
    "\n",
    "df_filtered.dtypes"
   ]
  },
  {
   "cell_type": "code",
   "execution_count": 30,
   "metadata": {},
   "outputs": [
    {
     "name": "stderr",
     "output_type": "stream",
     "text": [
      "/var/folders/20/jwmkwsbs0qn0p5jn7rklqwnm0000gn/T/ipykernel_9617/1711530825.py:3: SettingWithCopyWarning: \n",
      "A value is trying to be set on a copy of a slice from a DataFrame.\n",
      "Try using .loc[row_indexer,col_indexer] = value instead\n",
      "\n",
      "See the caveats in the documentation: https://pandas.pydata.org/pandas-docs/stable/user_guide/indexing.html#returning-a-view-versus-a-copy\n",
      "  df_filtered['Location'] = df_filtered['Location'].astype(str)\n",
      "/var/folders/20/jwmkwsbs0qn0p5jn7rklqwnm0000gn/T/ipykernel_9617/1711530825.py:5: SettingWithCopyWarning: \n",
      "A value is trying to be set on a copy of a slice from a DataFrame.\n",
      "Try using .loc[row_indexer,col_indexer] = value instead\n",
      "\n",
      "See the caveats in the documentation: https://pandas.pydata.org/pandas-docs/stable/user_guide/indexing.html#returning-a-view-versus-a-copy\n",
      "  df_filtered['Location_New'] = df_filtered['Location'].apply(lambda x: x.encode('latin1').decode('utf-8'))\n"
     ]
    }
   ],
   "source": [
    "# change encode\n",
    "\n",
    "df_filtered['Location'] = df_filtered['Location'].astype(str)\n",
    "\n",
    "df_filtered['Location_New'] = df_filtered['Location'].apply(lambda x: x.encode('latin1').decode('utf-8'))"
   ]
  },
  {
   "cell_type": "code",
   "execution_count": 31,
   "metadata": {},
   "outputs": [
    {
     "data": {
      "text/html": [
       "<div>\n",
       "<style scoped>\n",
       "    .dataframe tbody tr th:only-of-type {\n",
       "        vertical-align: middle;\n",
       "    }\n",
       "\n",
       "    .dataframe tbody tr th {\n",
       "        vertical-align: top;\n",
       "    }\n",
       "\n",
       "    .dataframe thead th {\n",
       "        text-align: right;\n",
       "    }\n",
       "</style>\n",
       "<table border=\"1\" class=\"dataframe\">\n",
       "  <thead>\n",
       "    <tr style=\"text-align: right;\">\n",
       "      <th></th>\n",
       "      <th>Price</th>\n",
       "      <th>Boat_Type</th>\n",
       "      <th>Manufacturer</th>\n",
       "      <th>Type</th>\n",
       "      <th>Year_Built</th>\n",
       "      <th>Length</th>\n",
       "      <th>Width</th>\n",
       "      <th>Material</th>\n",
       "      <th>Location</th>\n",
       "      <th>Views_7_days</th>\n",
       "      <th>Location_New</th>\n",
       "    </tr>\n",
       "  </thead>\n",
       "  <tbody>\n",
       "    <tr>\n",
       "      <th>1</th>\n",
       "      <td>EUR 3490</td>\n",
       "      <td>Center console boat</td>\n",
       "      <td>Terhi power boats</td>\n",
       "      <td>new boat from stock</td>\n",
       "      <td>2020</td>\n",
       "      <td>4.00</td>\n",
       "      <td>1.50</td>\n",
       "      <td>Thermoplastic</td>\n",
       "      <td>Germany Â» BÃ¶nningstedt</td>\n",
       "      <td>75</td>\n",
       "      <td>Germany » Bönningstedt</td>\n",
       "    </tr>\n",
       "    <tr>\n",
       "      <th>2</th>\n",
       "      <td>CHF 3770</td>\n",
       "      <td>Sport Boat</td>\n",
       "      <td>Marine power boats</td>\n",
       "      <td>new boat from stock</td>\n",
       "      <td>0</td>\n",
       "      <td>3.69</td>\n",
       "      <td>1.42</td>\n",
       "      <td>Aluminium</td>\n",
       "      <td>Switzerland Â» Lake of Zurich Â» StÃ¤fa ZH</td>\n",
       "      <td>124</td>\n",
       "      <td>Switzerland » Lake of Zurich » Stäfa ZH</td>\n",
       "    </tr>\n",
       "    <tr>\n",
       "      <th>4</th>\n",
       "      <td>EUR 3399</td>\n",
       "      <td>Fishing Boat</td>\n",
       "      <td>Linder power boats</td>\n",
       "      <td>new boat from stock</td>\n",
       "      <td>2019</td>\n",
       "      <td>3.55</td>\n",
       "      <td>1.46</td>\n",
       "      <td>Aluminium</td>\n",
       "      <td>Germany Â» Bayern Â» MÃ¼nchen</td>\n",
       "      <td>58</td>\n",
       "      <td>Germany » Bayern » München</td>\n",
       "    </tr>\n",
       "    <tr>\n",
       "      <th>5</th>\n",
       "      <td>CHF 3650</td>\n",
       "      <td>Sport Boat</td>\n",
       "      <td>Linder power boats</td>\n",
       "      <td>new boat from stock</td>\n",
       "      <td>0</td>\n",
       "      <td>4.03</td>\n",
       "      <td>1.56</td>\n",
       "      <td>Aluminium</td>\n",
       "      <td>Switzerland Â» Lake Constance Â» Uttwil</td>\n",
       "      <td>132</td>\n",
       "      <td>Switzerland » Lake Constance » Uttwil</td>\n",
       "    </tr>\n",
       "    <tr>\n",
       "      <th>10</th>\n",
       "      <td>CHF 3500</td>\n",
       "      <td>Fishing Boat</td>\n",
       "      <td>Terhi power boats</td>\n",
       "      <td>Used boat,Electric</td>\n",
       "      <td>1987</td>\n",
       "      <td>4.35</td>\n",
       "      <td>1.75</td>\n",
       "      <td>GRP</td>\n",
       "      <td>Switzerland Â» Seengen</td>\n",
       "      <td>239</td>\n",
       "      <td>Switzerland » Seengen</td>\n",
       "    </tr>\n",
       "  </tbody>\n",
       "</table>\n",
       "</div>"
      ],
      "text/plain": [
       "       Price            Boat_Type        Manufacturer                 Type  \\\n",
       "1   EUR 3490  Center console boat   Terhi power boats  new boat from stock   \n",
       "2   CHF 3770           Sport Boat  Marine power boats  new boat from stock   \n",
       "4   EUR 3399         Fishing Boat  Linder power boats  new boat from stock   \n",
       "5   CHF 3650           Sport Boat  Linder power boats  new boat from stock   \n",
       "10  CHF 3500         Fishing Boat   Terhi power boats   Used boat,Electric   \n",
       "\n",
       "    Year_Built  Length  Width       Material  \\\n",
       "1         2020    4.00   1.50  Thermoplastic   \n",
       "2            0    3.69   1.42      Aluminium   \n",
       "4         2019    3.55   1.46      Aluminium   \n",
       "5            0    4.03   1.56      Aluminium   \n",
       "10        1987    4.35   1.75            GRP   \n",
       "\n",
       "                                      Location  Views_7_days  \\\n",
       "1                     Germany Â» BÃ¶nningstedt            75   \n",
       "2   Switzerland Â» Lake of Zurich Â» StÃ¤fa ZH           124   \n",
       "4                Germany Â» Bayern Â» MÃ¼nchen            58   \n",
       "5      Switzerland Â» Lake Constance Â» Uttwil           132   \n",
       "10                      Switzerland Â» Seengen           239   \n",
       "\n",
       "                               Location_New  \n",
       "1                    Germany » Bönningstedt  \n",
       "2   Switzerland » Lake of Zurich » Stäfa ZH  \n",
       "4                Germany » Bayern » München  \n",
       "5     Switzerland » Lake Constance » Uttwil  \n",
       "10                    Switzerland » Seengen  "
      ]
     },
     "execution_count": 31,
     "metadata": {},
     "output_type": "execute_result"
    }
   ],
   "source": [
    "# check if the new column was created\n",
    "\n",
    "df_filtered.head()"
   ]
  },
  {
   "cell_type": "code",
   "execution_count": 32,
   "metadata": {},
   "outputs": [
    {
     "name": "stderr",
     "output_type": "stream",
     "text": [
      "/var/folders/20/jwmkwsbs0qn0p5jn7rklqwnm0000gn/T/ipykernel_9617/1573260291.py:3: SettingWithCopyWarning: \n",
      "A value is trying to be set on a copy of a slice from a DataFrame.\n",
      "Try using .loc[row_indexer,col_indexer] = value instead\n",
      "\n",
      "See the caveats in the documentation: https://pandas.pydata.org/pandas-docs/stable/user_guide/indexing.html#returning-a-view-versus-a-copy\n",
      "  df_filtered['Country'] = df_filtered['Location_New'].str.split('»').str[0].str.strip()\n"
     ]
    }
   ],
   "source": [
    "# considering that there is no pattern on how the location was defined, I will create another column with only the country\n",
    "\n",
    "df_filtered['Country'] = df_filtered['Location_New'].str.split('»').str[0].str.strip()"
   ]
  },
  {
   "cell_type": "code",
   "execution_count": 33,
   "metadata": {},
   "outputs": [
    {
     "data": {
      "text/plain": [
       "Country\n",
       "Germany                 1504\n",
       "Italy                   1011\n",
       "Switzerland             1007\n",
       "France                   980\n",
       "Croatia (Hrvatska)       676\n",
       "                        ... \n",
       "Serbia                     1\n",
       "Mallorca                   1\n",
       "Greetsile/ Krummhörn       1\n",
       "Lithuania                  1\n",
       "Thun                       1\n",
       "Name: count, Length: 107, dtype: int64"
      ]
     },
     "execution_count": 33,
     "metadata": {},
     "output_type": "execute_result"
    }
   ],
   "source": [
    "# check if it was created and only contain countries\n",
    "\n",
    "df_filtered['Country'].value_counts(dropna=False)"
   ]
  },
  {
   "cell_type": "code",
   "execution_count": 34,
   "metadata": {},
   "outputs": [
    {
     "name": "stderr",
     "output_type": "stream",
     "text": [
      "/var/folders/20/jwmkwsbs0qn0p5jn7rklqwnm0000gn/T/ipykernel_9617/3262464337.py:3: SettingWithCopyWarning: \n",
      "A value is trying to be set on a copy of a slice from a DataFrame\n",
      "\n",
      "See the caveats in the documentation: https://pandas.pydata.org/pandas-docs/stable/user_guide/indexing.html#returning-a-view-versus-a-copy\n",
      "  df_filtered.drop(columns=['Location'], inplace=True)\n"
     ]
    },
    {
     "data": {
      "text/plain": [
       "Index(['Price', 'Boat_Type', 'Manufacturer', 'Type', 'Year_Built', 'Length',\n",
       "       'Width', 'Material', 'Views_7_days', 'Location_New', 'Country'],\n",
       "      dtype='object')"
      ]
     },
     "execution_count": 34,
     "metadata": {},
     "output_type": "execute_result"
    }
   ],
   "source": [
    "# drop the 'Location' column\n",
    "\n",
    "df_filtered.drop(columns=['Location'], inplace=True)\n",
    "# check if it was deleted\n",
    "\n",
    "df_filtered.columns"
   ]
  },
  {
   "cell_type": "code",
   "execution_count": 35,
   "metadata": {},
   "outputs": [
    {
     "name": "stderr",
     "output_type": "stream",
     "text": [
      "/var/folders/20/jwmkwsbs0qn0p5jn7rklqwnm0000gn/T/ipykernel_9617/2795180882.py:3: SettingWithCopyWarning: \n",
      "A value is trying to be set on a copy of a slice from a DataFrame\n",
      "\n",
      "See the caveats in the documentation: https://pandas.pydata.org/pandas-docs/stable/user_guide/indexing.html#returning-a-view-versus-a-copy\n",
      "  df_filtered.rename(columns={'Location_New':'Location'}, inplace=True)\n"
     ]
    },
    {
     "data": {
      "text/plain": [
       "Index(['Price', 'Boat_Type', 'Manufacturer', 'Type', 'Year_Built', 'Length',\n",
       "       'Width', 'Material', 'Views_7_days', 'Location', 'Country'],\n",
       "      dtype='object')"
      ]
     },
     "execution_count": 35,
     "metadata": {},
     "output_type": "execute_result"
    }
   ],
   "source": [
    "# rename 'Location_New' to 'Location'\n",
    "\n",
    "df_filtered.rename(columns={'Location_New':'Location'}, inplace=True)\n",
    "\n",
    "df_filtered.columns"
   ]
  },
  {
   "cell_type": "markdown",
   "metadata": {},
   "source": [
    "##### 4.3 - Price Column to EUR Currency"
   ]
  },
  {
   "cell_type": "code",
   "execution_count": 36,
   "metadata": {},
   "outputs": [
    {
     "name": "stderr",
     "output_type": "stream",
     "text": [
      "/var/folders/20/jwmkwsbs0qn0p5jn7rklqwnm0000gn/T/ipykernel_9617/1982901643.py:3: SettingWithCopyWarning: \n",
      "A value is trying to be set on a copy of a slice from a DataFrame.\n",
      "Try using .loc[row_indexer,col_indexer] = value instead\n",
      "\n",
      "See the caveats in the documentation: https://pandas.pydata.org/pandas-docs/stable/user_guide/indexing.html#returning-a-view-versus-a-copy\n",
      "  df_filtered[['Price_Currency', 'Price_Amount']] = df_filtered['Price'].str.split(expand=True)\n",
      "/var/folders/20/jwmkwsbs0qn0p5jn7rklqwnm0000gn/T/ipykernel_9617/1982901643.py:3: SettingWithCopyWarning: \n",
      "A value is trying to be set on a copy of a slice from a DataFrame.\n",
      "Try using .loc[row_indexer,col_indexer] = value instead\n",
      "\n",
      "See the caveats in the documentation: https://pandas.pydata.org/pandas-docs/stable/user_guide/indexing.html#returning-a-view-versus-a-copy\n",
      "  df_filtered[['Price_Currency', 'Price_Amount']] = df_filtered['Price'].str.split(expand=True)\n"
     ]
    }
   ],
   "source": [
    "# Considering how the price is shown, it is important to separate it first\n",
    "\n",
    "df_filtered[['Price_Currency', 'Price_Amount']] = df_filtered['Price'].str.split(expand=True)"
   ]
  },
  {
   "cell_type": "code",
   "execution_count": 37,
   "metadata": {},
   "outputs": [
    {
     "data": {
      "text/html": [
       "<div>\n",
       "<style scoped>\n",
       "    .dataframe tbody tr th:only-of-type {\n",
       "        vertical-align: middle;\n",
       "    }\n",
       "\n",
       "    .dataframe tbody tr th {\n",
       "        vertical-align: top;\n",
       "    }\n",
       "\n",
       "    .dataframe thead th {\n",
       "        text-align: right;\n",
       "    }\n",
       "</style>\n",
       "<table border=\"1\" class=\"dataframe\">\n",
       "  <thead>\n",
       "    <tr style=\"text-align: right;\">\n",
       "      <th></th>\n",
       "      <th>Price</th>\n",
       "      <th>Boat_Type</th>\n",
       "      <th>Manufacturer</th>\n",
       "      <th>Type</th>\n",
       "      <th>Year_Built</th>\n",
       "      <th>Length</th>\n",
       "      <th>Width</th>\n",
       "      <th>Material</th>\n",
       "      <th>Views_7_days</th>\n",
       "      <th>Location</th>\n",
       "      <th>Country</th>\n",
       "      <th>Price_Currency</th>\n",
       "      <th>Price_Amount</th>\n",
       "    </tr>\n",
       "  </thead>\n",
       "  <tbody>\n",
       "    <tr>\n",
       "      <th>1</th>\n",
       "      <td>EUR 3490</td>\n",
       "      <td>Center console boat</td>\n",
       "      <td>Terhi power boats</td>\n",
       "      <td>new boat from stock</td>\n",
       "      <td>2020</td>\n",
       "      <td>4.00</td>\n",
       "      <td>1.50</td>\n",
       "      <td>Thermoplastic</td>\n",
       "      <td>75</td>\n",
       "      <td>Germany » Bönningstedt</td>\n",
       "      <td>Germany</td>\n",
       "      <td>EUR</td>\n",
       "      <td>3490</td>\n",
       "    </tr>\n",
       "    <tr>\n",
       "      <th>2</th>\n",
       "      <td>CHF 3770</td>\n",
       "      <td>Sport Boat</td>\n",
       "      <td>Marine power boats</td>\n",
       "      <td>new boat from stock</td>\n",
       "      <td>0</td>\n",
       "      <td>3.69</td>\n",
       "      <td>1.42</td>\n",
       "      <td>Aluminium</td>\n",
       "      <td>124</td>\n",
       "      <td>Switzerland » Lake of Zurich » Stäfa ZH</td>\n",
       "      <td>Switzerland</td>\n",
       "      <td>CHF</td>\n",
       "      <td>3770</td>\n",
       "    </tr>\n",
       "    <tr>\n",
       "      <th>4</th>\n",
       "      <td>EUR 3399</td>\n",
       "      <td>Fishing Boat</td>\n",
       "      <td>Linder power boats</td>\n",
       "      <td>new boat from stock</td>\n",
       "      <td>2019</td>\n",
       "      <td>3.55</td>\n",
       "      <td>1.46</td>\n",
       "      <td>Aluminium</td>\n",
       "      <td>58</td>\n",
       "      <td>Germany » Bayern » München</td>\n",
       "      <td>Germany</td>\n",
       "      <td>EUR</td>\n",
       "      <td>3399</td>\n",
       "    </tr>\n",
       "    <tr>\n",
       "      <th>5</th>\n",
       "      <td>CHF 3650</td>\n",
       "      <td>Sport Boat</td>\n",
       "      <td>Linder power boats</td>\n",
       "      <td>new boat from stock</td>\n",
       "      <td>0</td>\n",
       "      <td>4.03</td>\n",
       "      <td>1.56</td>\n",
       "      <td>Aluminium</td>\n",
       "      <td>132</td>\n",
       "      <td>Switzerland » Lake Constance » Uttwil</td>\n",
       "      <td>Switzerland</td>\n",
       "      <td>CHF</td>\n",
       "      <td>3650</td>\n",
       "    </tr>\n",
       "    <tr>\n",
       "      <th>10</th>\n",
       "      <td>CHF 3500</td>\n",
       "      <td>Fishing Boat</td>\n",
       "      <td>Terhi power boats</td>\n",
       "      <td>Used boat,Electric</td>\n",
       "      <td>1987</td>\n",
       "      <td>4.35</td>\n",
       "      <td>1.75</td>\n",
       "      <td>GRP</td>\n",
       "      <td>239</td>\n",
       "      <td>Switzerland » Seengen</td>\n",
       "      <td>Switzerland</td>\n",
       "      <td>CHF</td>\n",
       "      <td>3500</td>\n",
       "    </tr>\n",
       "    <tr>\n",
       "      <th>11</th>\n",
       "      <td>CHF 3480</td>\n",
       "      <td>Fishing Boat</td>\n",
       "      <td>Marine power boats</td>\n",
       "      <td>new boat from stock</td>\n",
       "      <td>0</td>\n",
       "      <td>4.13</td>\n",
       "      <td>1.41</td>\n",
       "      <td>Aluminium</td>\n",
       "      <td>145</td>\n",
       "      <td>Switzerland » Lake of Zurich » Stäfa am Zürichsee</td>\n",
       "      <td>Switzerland</td>\n",
       "      <td>CHF</td>\n",
       "      <td>3480</td>\n",
       "    </tr>\n",
       "    <tr>\n",
       "      <th>12</th>\n",
       "      <td>EUR 3500</td>\n",
       "      <td>Sport Boat</td>\n",
       "      <td>GS Nautica power boats</td>\n",
       "      <td>Used boat</td>\n",
       "      <td>2004</td>\n",
       "      <td>4.70</td>\n",
       "      <td>2.00</td>\n",
       "      <td>GRP</td>\n",
       "      <td>69</td>\n",
       "      <td>Italy » Lake Garda » Moniga del Garda (BS)</td>\n",
       "      <td>Italy</td>\n",
       "      <td>EUR</td>\n",
       "      <td>3500</td>\n",
       "    </tr>\n",
       "    <tr>\n",
       "      <th>13</th>\n",
       "      <td>CHF 4600</td>\n",
       "      <td>Runabout</td>\n",
       "      <td>Kimple power boats</td>\n",
       "      <td>new boat from stock</td>\n",
       "      <td>2020</td>\n",
       "      <td>4.40</td>\n",
       "      <td>1.65</td>\n",
       "      <td>Aluminium</td>\n",
       "      <td>113</td>\n",
       "      <td>Switzerland » Zugersee » Neuheim</td>\n",
       "      <td>Switzerland</td>\n",
       "      <td>CHF</td>\n",
       "      <td>4600</td>\n",
       "    </tr>\n",
       "    <tr>\n",
       "      <th>14</th>\n",
       "      <td>CHF 4500</td>\n",
       "      <td>Fishing Boat</td>\n",
       "      <td>Italmarine power boats</td>\n",
       "      <td>Used boat,Unleaded</td>\n",
       "      <td>1997</td>\n",
       "      <td>3.72</td>\n",
       "      <td>1.33</td>\n",
       "      <td>Aluminium</td>\n",
       "      <td>413</td>\n",
       "      <td>Switzerland » Vierwaldstättersee » 6004</td>\n",
       "      <td>Switzerland</td>\n",
       "      <td>CHF</td>\n",
       "      <td>4500</td>\n",
       "    </tr>\n",
       "    <tr>\n",
       "      <th>15</th>\n",
       "      <td>CHF 4400</td>\n",
       "      <td>Deck Boat</td>\n",
       "      <td>Buster power boats</td>\n",
       "      <td>new boat from stock,Unleaded</td>\n",
       "      <td>0</td>\n",
       "      <td>3.88</td>\n",
       "      <td>1.49</td>\n",
       "      <td>Aluminium</td>\n",
       "      <td>263</td>\n",
       "      <td>Switzerland » Safenwil</td>\n",
       "      <td>Switzerland</td>\n",
       "      <td>CHF</td>\n",
       "      <td>4400</td>\n",
       "    </tr>\n",
       "  </tbody>\n",
       "</table>\n",
       "</div>"
      ],
      "text/plain": [
       "       Price            Boat_Type            Manufacturer  \\\n",
       "1   EUR 3490  Center console boat       Terhi power boats   \n",
       "2   CHF 3770           Sport Boat      Marine power boats   \n",
       "4   EUR 3399         Fishing Boat      Linder power boats   \n",
       "5   CHF 3650           Sport Boat      Linder power boats   \n",
       "10  CHF 3500         Fishing Boat       Terhi power boats   \n",
       "11  CHF 3480         Fishing Boat      Marine power boats   \n",
       "12  EUR 3500           Sport Boat  GS Nautica power boats   \n",
       "13  CHF 4600             Runabout      Kimple power boats   \n",
       "14  CHF 4500         Fishing Boat  Italmarine power boats   \n",
       "15  CHF 4400            Deck Boat      Buster power boats   \n",
       "\n",
       "                            Type  Year_Built  Length  Width       Material  \\\n",
       "1            new boat from stock        2020    4.00   1.50  Thermoplastic   \n",
       "2            new boat from stock           0    3.69   1.42      Aluminium   \n",
       "4            new boat from stock        2019    3.55   1.46      Aluminium   \n",
       "5            new boat from stock           0    4.03   1.56      Aluminium   \n",
       "10            Used boat,Electric        1987    4.35   1.75            GRP   \n",
       "11           new boat from stock           0    4.13   1.41      Aluminium   \n",
       "12                     Used boat        2004    4.70   2.00            GRP   \n",
       "13           new boat from stock        2020    4.40   1.65      Aluminium   \n",
       "14            Used boat,Unleaded        1997    3.72   1.33      Aluminium   \n",
       "15  new boat from stock,Unleaded           0    3.88   1.49      Aluminium   \n",
       "\n",
       "    Views_7_days                                           Location  \\\n",
       "1             75                             Germany » Bönningstedt   \n",
       "2            124            Switzerland » Lake of Zurich » Stäfa ZH   \n",
       "4             58                         Germany » Bayern » München   \n",
       "5            132              Switzerland » Lake Constance » Uttwil   \n",
       "10           239                              Switzerland » Seengen   \n",
       "11           145  Switzerland » Lake of Zurich » Stäfa am Zürichsee   \n",
       "12            69         Italy » Lake Garda » Moniga del Garda (BS)   \n",
       "13           113                   Switzerland » Zugersee » Neuheim   \n",
       "14           413            Switzerland » Vierwaldstättersee » 6004   \n",
       "15           263                             Switzerland » Safenwil   \n",
       "\n",
       "        Country Price_Currency Price_Amount  \n",
       "1       Germany            EUR         3490  \n",
       "2   Switzerland            CHF         3770  \n",
       "4       Germany            EUR         3399  \n",
       "5   Switzerland            CHF         3650  \n",
       "10  Switzerland            CHF         3500  \n",
       "11  Switzerland            CHF         3480  \n",
       "12        Italy            EUR         3500  \n",
       "13  Switzerland            CHF         4600  \n",
       "14  Switzerland            CHF         4500  \n",
       "15  Switzerland            CHF         4400  "
      ]
     },
     "execution_count": 37,
     "metadata": {},
     "output_type": "execute_result"
    }
   ],
   "source": [
    "# check \n",
    "\n",
    "df_filtered.head(10)"
   ]
  },
  {
   "cell_type": "code",
   "execution_count": 38,
   "metadata": {},
   "outputs": [
    {
     "data": {
      "text/plain": [
       "Price              object\n",
       "Boat_Type          object\n",
       "Manufacturer       object\n",
       "Type               object\n",
       "Year_Built          int64\n",
       "Length            float64\n",
       "Width             float64\n",
       "Material           object\n",
       "Views_7_days        int64\n",
       "Location           object\n",
       "Country            object\n",
       "Price_Currency     object\n",
       "Price_Amount       object\n",
       "dtype: object"
      ]
     },
     "execution_count": 38,
     "metadata": {},
     "output_type": "execute_result"
    }
   ],
   "source": [
    "# check dtypes\n",
    "\n",
    "df_filtered.dtypes"
   ]
  },
  {
   "cell_type": "code",
   "execution_count": 39,
   "metadata": {},
   "outputs": [
    {
     "name": "stderr",
     "output_type": "stream",
     "text": [
      "/var/folders/20/jwmkwsbs0qn0p5jn7rklqwnm0000gn/T/ipykernel_9617/2220617474.py:3: SettingWithCopyWarning: \n",
      "A value is trying to be set on a copy of a slice from a DataFrame.\n",
      "Try using .loc[row_indexer,col_indexer] = value instead\n",
      "\n",
      "See the caveats in the documentation: https://pandas.pydata.org/pandas-docs/stable/user_guide/indexing.html#returning-a-view-versus-a-copy\n",
      "  df_filtered['Price_Amount'] = df_filtered['Price_Amount'].astype(float)\n"
     ]
    }
   ],
   "source": [
    "# change Price_Amount dtype\n",
    "\n",
    "df_filtered['Price_Amount'] = df_filtered['Price_Amount'].astype(float)"
   ]
  },
  {
   "cell_type": "code",
   "execution_count": 40,
   "metadata": {},
   "outputs": [],
   "source": [
    "# first define exchange rate for each currency in the column compared to EUR\n",
    "\n",
    "currencies = {\n",
    "    'CHF': 1.02,\n",
    "    'Â£': 1.16,\n",
    "    'EUR': 1.0,\n",
    "    'DKK': 0.13\n",
    "    }\n",
    "\n",
    "exchange_rates = {'CHF': currencies['CHF'], 'Â£': currencies['Â£'], 'EUR': 1.0, 'DKK': currencies['DKK']}\n",
    "# exchange_rates took from Google Finance on May 14, 2024. "
   ]
  },
  {
   "cell_type": "code",
   "execution_count": 41,
   "metadata": {},
   "outputs": [],
   "source": [
    "def convert_to_eur(row, exchange_rates):\n",
    "    if row['Price_Currency'] == 'CHF':\n",
    "        return row['Price_Amount'] / exchange_rates['CHF']\n",
    "    elif row['Price_Currency'] == 'Â£':\n",
    "        return row['Price_Amount'] / exchange_rates['Â£']\n",
    "    elif row['Price_Currency'] == 'EUR':\n",
    "        return row['Price_Amount']\n",
    "    elif row['Price_Currency'] == 'DKK':\n",
    "        return row['Price_Amount'] / exchange_rates['DKK']\n",
    "    else:\n",
    "        return \"Invalid currency\""
   ]
  },
  {
   "cell_type": "code",
   "execution_count": 42,
   "metadata": {},
   "outputs": [
    {
     "name": "stderr",
     "output_type": "stream",
     "text": [
      "/var/folders/20/jwmkwsbs0qn0p5jn7rklqwnm0000gn/T/ipykernel_9617/1611325580.py:3: SettingWithCopyWarning: \n",
      "A value is trying to be set on a copy of a slice from a DataFrame.\n",
      "Try using .loc[row_indexer,col_indexer] = value instead\n",
      "\n",
      "See the caveats in the documentation: https://pandas.pydata.org/pandas-docs/stable/user_guide/indexing.html#returning-a-view-versus-a-copy\n",
      "  df_filtered['Price_EUR'] = df_filtered.apply(convert_to_eur, exchange_rates = exchange_rates,axis=1)\n"
     ]
    }
   ],
   "source": [
    "# create column - Price_EUR and apply the formula above\n",
    "\n",
    "df_filtered['Price_EUR'] = df_filtered.apply(convert_to_eur, exchange_rates = exchange_rates,axis=1)\n"
   ]
  },
  {
   "cell_type": "code",
   "execution_count": 43,
   "metadata": {},
   "outputs": [
    {
     "data": {
      "text/html": [
       "<div>\n",
       "<style scoped>\n",
       "    .dataframe tbody tr th:only-of-type {\n",
       "        vertical-align: middle;\n",
       "    }\n",
       "\n",
       "    .dataframe tbody tr th {\n",
       "        vertical-align: top;\n",
       "    }\n",
       "\n",
       "    .dataframe thead th {\n",
       "        text-align: right;\n",
       "    }\n",
       "</style>\n",
       "<table border=\"1\" class=\"dataframe\">\n",
       "  <thead>\n",
       "    <tr style=\"text-align: right;\">\n",
       "      <th></th>\n",
       "      <th>Price</th>\n",
       "      <th>Boat_Type</th>\n",
       "      <th>Manufacturer</th>\n",
       "      <th>Type</th>\n",
       "      <th>Year_Built</th>\n",
       "      <th>Length</th>\n",
       "      <th>Width</th>\n",
       "      <th>Material</th>\n",
       "      <th>Views_7_days</th>\n",
       "      <th>Location</th>\n",
       "      <th>Country</th>\n",
       "      <th>Price_Currency</th>\n",
       "      <th>Price_Amount</th>\n",
       "      <th>Price_EUR</th>\n",
       "    </tr>\n",
       "  </thead>\n",
       "  <tbody>\n",
       "    <tr>\n",
       "      <th>1</th>\n",
       "      <td>EUR 3490</td>\n",
       "      <td>Center console boat</td>\n",
       "      <td>Terhi power boats</td>\n",
       "      <td>new boat from stock</td>\n",
       "      <td>2020</td>\n",
       "      <td>4.00</td>\n",
       "      <td>1.50</td>\n",
       "      <td>Thermoplastic</td>\n",
       "      <td>75</td>\n",
       "      <td>Germany » Bönningstedt</td>\n",
       "      <td>Germany</td>\n",
       "      <td>EUR</td>\n",
       "      <td>3490.0</td>\n",
       "      <td>3490.000000</td>\n",
       "    </tr>\n",
       "    <tr>\n",
       "      <th>2</th>\n",
       "      <td>CHF 3770</td>\n",
       "      <td>Sport Boat</td>\n",
       "      <td>Marine power boats</td>\n",
       "      <td>new boat from stock</td>\n",
       "      <td>0</td>\n",
       "      <td>3.69</td>\n",
       "      <td>1.42</td>\n",
       "      <td>Aluminium</td>\n",
       "      <td>124</td>\n",
       "      <td>Switzerland » Lake of Zurich » Stäfa ZH</td>\n",
       "      <td>Switzerland</td>\n",
       "      <td>CHF</td>\n",
       "      <td>3770.0</td>\n",
       "      <td>3696.078431</td>\n",
       "    </tr>\n",
       "    <tr>\n",
       "      <th>4</th>\n",
       "      <td>EUR 3399</td>\n",
       "      <td>Fishing Boat</td>\n",
       "      <td>Linder power boats</td>\n",
       "      <td>new boat from stock</td>\n",
       "      <td>2019</td>\n",
       "      <td>3.55</td>\n",
       "      <td>1.46</td>\n",
       "      <td>Aluminium</td>\n",
       "      <td>58</td>\n",
       "      <td>Germany » Bayern » München</td>\n",
       "      <td>Germany</td>\n",
       "      <td>EUR</td>\n",
       "      <td>3399.0</td>\n",
       "      <td>3399.000000</td>\n",
       "    </tr>\n",
       "    <tr>\n",
       "      <th>5</th>\n",
       "      <td>CHF 3650</td>\n",
       "      <td>Sport Boat</td>\n",
       "      <td>Linder power boats</td>\n",
       "      <td>new boat from stock</td>\n",
       "      <td>0</td>\n",
       "      <td>4.03</td>\n",
       "      <td>1.56</td>\n",
       "      <td>Aluminium</td>\n",
       "      <td>132</td>\n",
       "      <td>Switzerland » Lake Constance » Uttwil</td>\n",
       "      <td>Switzerland</td>\n",
       "      <td>CHF</td>\n",
       "      <td>3650.0</td>\n",
       "      <td>3578.431373</td>\n",
       "    </tr>\n",
       "    <tr>\n",
       "      <th>10</th>\n",
       "      <td>CHF 3500</td>\n",
       "      <td>Fishing Boat</td>\n",
       "      <td>Terhi power boats</td>\n",
       "      <td>Used boat,Electric</td>\n",
       "      <td>1987</td>\n",
       "      <td>4.35</td>\n",
       "      <td>1.75</td>\n",
       "      <td>GRP</td>\n",
       "      <td>239</td>\n",
       "      <td>Switzerland » Seengen</td>\n",
       "      <td>Switzerland</td>\n",
       "      <td>CHF</td>\n",
       "      <td>3500.0</td>\n",
       "      <td>3431.372549</td>\n",
       "    </tr>\n",
       "    <tr>\n",
       "      <th>11</th>\n",
       "      <td>CHF 3480</td>\n",
       "      <td>Fishing Boat</td>\n",
       "      <td>Marine power boats</td>\n",
       "      <td>new boat from stock</td>\n",
       "      <td>0</td>\n",
       "      <td>4.13</td>\n",
       "      <td>1.41</td>\n",
       "      <td>Aluminium</td>\n",
       "      <td>145</td>\n",
       "      <td>Switzerland » Lake of Zurich » Stäfa am Zürichsee</td>\n",
       "      <td>Switzerland</td>\n",
       "      <td>CHF</td>\n",
       "      <td>3480.0</td>\n",
       "      <td>3411.764706</td>\n",
       "    </tr>\n",
       "    <tr>\n",
       "      <th>12</th>\n",
       "      <td>EUR 3500</td>\n",
       "      <td>Sport Boat</td>\n",
       "      <td>GS Nautica power boats</td>\n",
       "      <td>Used boat</td>\n",
       "      <td>2004</td>\n",
       "      <td>4.70</td>\n",
       "      <td>2.00</td>\n",
       "      <td>GRP</td>\n",
       "      <td>69</td>\n",
       "      <td>Italy » Lake Garda » Moniga del Garda (BS)</td>\n",
       "      <td>Italy</td>\n",
       "      <td>EUR</td>\n",
       "      <td>3500.0</td>\n",
       "      <td>3500.000000</td>\n",
       "    </tr>\n",
       "    <tr>\n",
       "      <th>13</th>\n",
       "      <td>CHF 4600</td>\n",
       "      <td>Runabout</td>\n",
       "      <td>Kimple power boats</td>\n",
       "      <td>new boat from stock</td>\n",
       "      <td>2020</td>\n",
       "      <td>4.40</td>\n",
       "      <td>1.65</td>\n",
       "      <td>Aluminium</td>\n",
       "      <td>113</td>\n",
       "      <td>Switzerland » Zugersee » Neuheim</td>\n",
       "      <td>Switzerland</td>\n",
       "      <td>CHF</td>\n",
       "      <td>4600.0</td>\n",
       "      <td>4509.803922</td>\n",
       "    </tr>\n",
       "    <tr>\n",
       "      <th>14</th>\n",
       "      <td>CHF 4500</td>\n",
       "      <td>Fishing Boat</td>\n",
       "      <td>Italmarine power boats</td>\n",
       "      <td>Used boat,Unleaded</td>\n",
       "      <td>1997</td>\n",
       "      <td>3.72</td>\n",
       "      <td>1.33</td>\n",
       "      <td>Aluminium</td>\n",
       "      <td>413</td>\n",
       "      <td>Switzerland » Vierwaldstättersee » 6004</td>\n",
       "      <td>Switzerland</td>\n",
       "      <td>CHF</td>\n",
       "      <td>4500.0</td>\n",
       "      <td>4411.764706</td>\n",
       "    </tr>\n",
       "    <tr>\n",
       "      <th>15</th>\n",
       "      <td>CHF 4400</td>\n",
       "      <td>Deck Boat</td>\n",
       "      <td>Buster power boats</td>\n",
       "      <td>new boat from stock,Unleaded</td>\n",
       "      <td>0</td>\n",
       "      <td>3.88</td>\n",
       "      <td>1.49</td>\n",
       "      <td>Aluminium</td>\n",
       "      <td>263</td>\n",
       "      <td>Switzerland » Safenwil</td>\n",
       "      <td>Switzerland</td>\n",
       "      <td>CHF</td>\n",
       "      <td>4400.0</td>\n",
       "      <td>4313.725490</td>\n",
       "    </tr>\n",
       "  </tbody>\n",
       "</table>\n",
       "</div>"
      ],
      "text/plain": [
       "       Price            Boat_Type            Manufacturer  \\\n",
       "1   EUR 3490  Center console boat       Terhi power boats   \n",
       "2   CHF 3770           Sport Boat      Marine power boats   \n",
       "4   EUR 3399         Fishing Boat      Linder power boats   \n",
       "5   CHF 3650           Sport Boat      Linder power boats   \n",
       "10  CHF 3500         Fishing Boat       Terhi power boats   \n",
       "11  CHF 3480         Fishing Boat      Marine power boats   \n",
       "12  EUR 3500           Sport Boat  GS Nautica power boats   \n",
       "13  CHF 4600             Runabout      Kimple power boats   \n",
       "14  CHF 4500         Fishing Boat  Italmarine power boats   \n",
       "15  CHF 4400            Deck Boat      Buster power boats   \n",
       "\n",
       "                            Type  Year_Built  Length  Width       Material  \\\n",
       "1            new boat from stock        2020    4.00   1.50  Thermoplastic   \n",
       "2            new boat from stock           0    3.69   1.42      Aluminium   \n",
       "4            new boat from stock        2019    3.55   1.46      Aluminium   \n",
       "5            new boat from stock           0    4.03   1.56      Aluminium   \n",
       "10            Used boat,Electric        1987    4.35   1.75            GRP   \n",
       "11           new boat from stock           0    4.13   1.41      Aluminium   \n",
       "12                     Used boat        2004    4.70   2.00            GRP   \n",
       "13           new boat from stock        2020    4.40   1.65      Aluminium   \n",
       "14            Used boat,Unleaded        1997    3.72   1.33      Aluminium   \n",
       "15  new boat from stock,Unleaded           0    3.88   1.49      Aluminium   \n",
       "\n",
       "    Views_7_days                                           Location  \\\n",
       "1             75                             Germany » Bönningstedt   \n",
       "2            124            Switzerland » Lake of Zurich » Stäfa ZH   \n",
       "4             58                         Germany » Bayern » München   \n",
       "5            132              Switzerland » Lake Constance » Uttwil   \n",
       "10           239                              Switzerland » Seengen   \n",
       "11           145  Switzerland » Lake of Zurich » Stäfa am Zürichsee   \n",
       "12            69         Italy » Lake Garda » Moniga del Garda (BS)   \n",
       "13           113                   Switzerland » Zugersee » Neuheim   \n",
       "14           413            Switzerland » Vierwaldstättersee » 6004   \n",
       "15           263                             Switzerland » Safenwil   \n",
       "\n",
       "        Country Price_Currency  Price_Amount    Price_EUR  \n",
       "1       Germany            EUR        3490.0  3490.000000  \n",
       "2   Switzerland            CHF        3770.0  3696.078431  \n",
       "4       Germany            EUR        3399.0  3399.000000  \n",
       "5   Switzerland            CHF        3650.0  3578.431373  \n",
       "10  Switzerland            CHF        3500.0  3431.372549  \n",
       "11  Switzerland            CHF        3480.0  3411.764706  \n",
       "12        Italy            EUR        3500.0  3500.000000  \n",
       "13  Switzerland            CHF        4600.0  4509.803922  \n",
       "14  Switzerland            CHF        4500.0  4411.764706  \n",
       "15  Switzerland            CHF        4400.0  4313.725490  "
      ]
     },
     "execution_count": 43,
     "metadata": {},
     "output_type": "execute_result"
    }
   ],
   "source": [
    "df_filtered.head(10)"
   ]
  },
  {
   "cell_type": "code",
   "execution_count": 57,
   "metadata": {},
   "outputs": [
    {
     "data": {
      "text/html": [
       "<div>\n",
       "<style scoped>\n",
       "    .dataframe tbody tr th:only-of-type {\n",
       "        vertical-align: middle;\n",
       "    }\n",
       "\n",
       "    .dataframe tbody tr th {\n",
       "        vertical-align: top;\n",
       "    }\n",
       "\n",
       "    .dataframe thead th {\n",
       "        text-align: right;\n",
       "    }\n",
       "</style>\n",
       "<table border=\"1\" class=\"dataframe\">\n",
       "  <thead>\n",
       "    <tr style=\"text-align: right;\">\n",
       "      <th></th>\n",
       "      <th>Price</th>\n",
       "      <th>Boat_Type</th>\n",
       "      <th>Manufacturer</th>\n",
       "      <th>Type</th>\n",
       "      <th>Year_Built</th>\n",
       "      <th>Length</th>\n",
       "      <th>Width</th>\n",
       "      <th>Material</th>\n",
       "      <th>Views_7_days</th>\n",
       "      <th>Location</th>\n",
       "      <th>Country</th>\n",
       "      <th>Price_Currency</th>\n",
       "      <th>Price_Amount</th>\n",
       "      <th>Price_EUR</th>\n",
       "    </tr>\n",
       "  </thead>\n",
       "  <tbody>\n",
       "    <tr>\n",
       "      <th>3327</th>\n",
       "      <td>EUR 23500000</td>\n",
       "      <td>Mega Yacht</td>\n",
       "      <td>Benetti power boats</td>\n",
       "      <td>Used boat,Diesel</td>\n",
       "      <td>2007</td>\n",
       "      <td>56.0</td>\n",
       "      <td>10.4</td>\n",
       "      <td>Steel</td>\n",
       "      <td>419</td>\n",
       "      <td>Greece » Athen</td>\n",
       "      <td>Greece</td>\n",
       "      <td>EUR</td>\n",
       "      <td>23500000.0</td>\n",
       "      <td>23500000.0</td>\n",
       "    </tr>\n",
       "  </tbody>\n",
       "</table>\n",
       "</div>"
      ],
      "text/plain": [
       "             Price   Boat_Type         Manufacturer              Type  \\\n",
       "3327  EUR 23500000  Mega Yacht  Benetti power boats  Used boat,Diesel   \n",
       "\n",
       "      Year_Built  Length  Width Material  Views_7_days        Location  \\\n",
       "3327        2007    56.0   10.4    Steel           419  Greece » Athen   \n",
       "\n",
       "     Country Price_Currency  Price_Amount   Price_EUR  \n",
       "3327  Greece            EUR    23500000.0  23500000.0  "
      ]
     },
     "execution_count": 57,
     "metadata": {},
     "output_type": "execute_result"
    }
   ],
   "source": [
    "df_filtered[df_filtered['Price_Amount'] == 23500000.0]"
   ]
  },
  {
   "cell_type": "code",
   "execution_count": 44,
   "metadata": {},
   "outputs": [
    {
     "data": {
      "text/plain": [
       "Index(['Price', 'Boat_Type', 'Manufacturer', 'Type', 'Year_Built', 'Length',\n",
       "       'Width', 'Material', 'Views_7_days', 'Location', 'Country',\n",
       "       'Price_Currency', 'Price_Amount', 'Price_EUR'],\n",
       "      dtype='object')"
      ]
     },
     "execution_count": 44,
     "metadata": {},
     "output_type": "execute_result"
    }
   ],
   "source": [
    "df_filtered.columns"
   ]
  },
  {
   "cell_type": "markdown",
   "metadata": {},
   "source": [
    "##### 4.4 - Year Built Column"
   ]
  },
  {
   "cell_type": "code",
   "execution_count": 45,
   "metadata": {},
   "outputs": [],
   "source": [
    "# Considering that the minimum year built it was 0, I will filter this dataframe to keep all the values that are !=0\n",
    "\n",
    "df_filtered = df_filtered[df_filtered['Year_Built'] !=0]"
   ]
  },
  {
   "cell_type": "markdown",
   "metadata": {},
   "source": [
    "### 05. Data Profile"
   ]
  },
  {
   "cell_type": "markdown",
   "metadata": {},
   "source": [
    "#### Descriptive Analysis"
   ]
  },
  {
   "cell_type": "code",
   "execution_count": 46,
   "metadata": {},
   "outputs": [
    {
     "data": {
      "text/html": [
       "<div>\n",
       "<style scoped>\n",
       "    .dataframe tbody tr th:only-of-type {\n",
       "        vertical-align: middle;\n",
       "    }\n",
       "\n",
       "    .dataframe tbody tr th {\n",
       "        vertical-align: top;\n",
       "    }\n",
       "\n",
       "    .dataframe thead th {\n",
       "        text-align: right;\n",
       "    }\n",
       "</style>\n",
       "<table border=\"1\" class=\"dataframe\">\n",
       "  <thead>\n",
       "    <tr style=\"text-align: right;\">\n",
       "      <th></th>\n",
       "      <th>Year_Built</th>\n",
       "      <th>Length</th>\n",
       "      <th>Width</th>\n",
       "      <th>Views_7_days</th>\n",
       "      <th>Price_Amount</th>\n",
       "      <th>Price_EUR</th>\n",
       "    </tr>\n",
       "  </thead>\n",
       "  <tbody>\n",
       "    <tr>\n",
       "      <th>count</th>\n",
       "      <td>6607.000000</td>\n",
       "      <td>6607.000000</td>\n",
       "      <td>6607.000000</td>\n",
       "      <td>6607.000000</td>\n",
       "      <td>6.607000e+03</td>\n",
       "      <td>6.607000e+03</td>\n",
       "    </tr>\n",
       "    <tr>\n",
       "      <th>mean</th>\n",
       "      <td>2006.764038</td>\n",
       "      <td>11.229124</td>\n",
       "      <td>3.476581</td>\n",
       "      <td>162.011200</td>\n",
       "      <td>2.904131e+05</td>\n",
       "      <td>4.296321e+05</td>\n",
       "    </tr>\n",
       "    <tr>\n",
       "      <th>std</th>\n",
       "      <td>12.658449</td>\n",
       "      <td>5.177139</td>\n",
       "      <td>1.120888</td>\n",
       "      <td>170.771177</td>\n",
       "      <td>7.927469e+05</td>\n",
       "      <td>2.775023e+06</td>\n",
       "    </tr>\n",
       "    <tr>\n",
       "      <th>min</th>\n",
       "      <td>1901.000000</td>\n",
       "      <td>2.320000</td>\n",
       "      <td>0.860000</td>\n",
       "      <td>13.000000</td>\n",
       "      <td>3.399000e+03</td>\n",
       "      <td>3.399000e+03</td>\n",
       "    </tr>\n",
       "    <tr>\n",
       "      <th>25%</th>\n",
       "      <td>2000.000000</td>\n",
       "      <td>7.470000</td>\n",
       "      <td>2.550000</td>\n",
       "      <td>73.000000</td>\n",
       "      <td>4.499450e+04</td>\n",
       "      <td>4.490000e+04</td>\n",
       "    </tr>\n",
       "    <tr>\n",
       "      <th>50%</th>\n",
       "      <td>2008.000000</td>\n",
       "      <td>10.000000</td>\n",
       "      <td>3.300000</td>\n",
       "      <td>113.000000</td>\n",
       "      <td>9.500000e+04</td>\n",
       "      <td>9.500000e+04</td>\n",
       "    </tr>\n",
       "    <tr>\n",
       "      <th>75%</th>\n",
       "      <td>2018.000000</td>\n",
       "      <td>13.720000</td>\n",
       "      <td>4.200000</td>\n",
       "      <td>187.000000</td>\n",
       "      <td>2.499975e+05</td>\n",
       "      <td>2.496520e+05</td>\n",
       "    </tr>\n",
       "    <tr>\n",
       "      <th>max</th>\n",
       "      <td>2021.000000</td>\n",
       "      <td>56.000000</td>\n",
       "      <td>16.000000</td>\n",
       "      <td>3263.000000</td>\n",
       "      <td>2.350000e+07</td>\n",
       "      <td>1.352163e+08</td>\n",
       "    </tr>\n",
       "  </tbody>\n",
       "</table>\n",
       "</div>"
      ],
      "text/plain": [
       "        Year_Built       Length        Width  Views_7_days  Price_Amount  \\\n",
       "count  6607.000000  6607.000000  6607.000000   6607.000000  6.607000e+03   \n",
       "mean   2006.764038    11.229124     3.476581    162.011200  2.904131e+05   \n",
       "std      12.658449     5.177139     1.120888    170.771177  7.927469e+05   \n",
       "min    1901.000000     2.320000     0.860000     13.000000  3.399000e+03   \n",
       "25%    2000.000000     7.470000     2.550000     73.000000  4.499450e+04   \n",
       "50%    2008.000000    10.000000     3.300000    113.000000  9.500000e+04   \n",
       "75%    2018.000000    13.720000     4.200000    187.000000  2.499975e+05   \n",
       "max    2021.000000    56.000000    16.000000   3263.000000  2.350000e+07   \n",
       "\n",
       "          Price_EUR  \n",
       "count  6.607000e+03  \n",
       "mean   4.296321e+05  \n",
       "std    2.775023e+06  \n",
       "min    3.399000e+03  \n",
       "25%    4.490000e+04  \n",
       "50%    9.500000e+04  \n",
       "75%    2.496520e+05  \n",
       "max    1.352163e+08  "
      ]
     },
     "execution_count": 46,
     "metadata": {},
     "output_type": "execute_result"
    }
   ],
   "source": [
    "# Descriptive Analysis\n",
    "df_filtered.describe()"
   ]
  },
  {
   "cell_type": "markdown",
   "metadata": {},
   "source": [
    "###### Most of the columns descriptive analysis show a logical value, except for the column \"Year Built\" that shows the minimum as 0, which could be used to represent as \"Unknown\". "
   ]
  },
  {
   "cell_type": "code",
   "execution_count": 47,
   "metadata": {},
   "outputs": [
    {
     "data": {
      "text/plain": [
       "Year_Built\n",
       "2020    976\n",
       "2019    486\n",
       "2008    333\n",
       "2007    277\n",
       "2006    274\n",
       "       ... \n",
       "1957      1\n",
       "1933      1\n",
       "1954      1\n",
       "1940      1\n",
       "1951      1\n",
       "Name: count, Length: 78, dtype: int64"
      ]
     },
     "execution_count": 47,
     "metadata": {},
     "output_type": "execute_result"
    }
   ],
   "source": [
    "# check frequency - Year_Built\n",
    "\n",
    "df_filtered['Year_Built'].value_counts()"
   ]
  },
  {
   "cell_type": "code",
   "execution_count": 48,
   "metadata": {},
   "outputs": [
    {
     "data": {
      "text/plain": [
       "Length\n",
       "9.00     80\n",
       "11.00    64\n",
       "10.00    63\n",
       "6.50     60\n",
       "12.00    58\n",
       "         ..\n",
       "23.30     1\n",
       "10.93     1\n",
       "22.43     1\n",
       "13.91     1\n",
       "3.60      1\n",
       "Name: count, Length: 1342, dtype: int64"
      ]
     },
     "execution_count": 48,
     "metadata": {},
     "output_type": "execute_result"
    }
   ],
   "source": [
    "# check frequency - Length\n",
    "\n",
    "df_filtered['Length'].value_counts()"
   ]
  },
  {
   "cell_type": "code",
   "execution_count": 49,
   "metadata": {},
   "outputs": [
    {
     "data": {
      "text/plain": [
       "Width\n",
       "2.50     235\n",
       "3.00     167\n",
       "2.59     146\n",
       "2.55     135\n",
       "2.54     120\n",
       "        ... \n",
       "5.57       1\n",
       "7.59       1\n",
       "6.45       1\n",
       "10.50      1\n",
       "9.98       1\n",
       "Name: count, Length: 494, dtype: int64"
      ]
     },
     "execution_count": 49,
     "metadata": {},
     "output_type": "execute_result"
    }
   ],
   "source": [
    "# check frequency - Width\n",
    "\n",
    "df_filtered['Width'].value_counts()"
   ]
  },
  {
   "cell_type": "code",
   "execution_count": 50,
   "metadata": {},
   "outputs": [
    {
     "data": {
      "text/plain": [
       "Views_7_days\n",
       "74      61\n",
       "81      57\n",
       "73      57\n",
       "110     53\n",
       "67      53\n",
       "        ..\n",
       "1107     1\n",
       "690      1\n",
       "873      1\n",
       "482      1\n",
       "1917     1\n",
       "Name: count, Length: 656, dtype: int64"
      ]
     },
     "execution_count": 50,
     "metadata": {},
     "output_type": "execute_result"
    }
   ],
   "source": [
    "# check frequency - Views_7_days\n",
    "\n",
    "df_filtered['Views_7_days'].value_counts()"
   ]
  },
  {
   "cell_type": "code",
   "execution_count": 51,
   "metadata": {},
   "outputs": [
    {
     "data": {
      "text/plain": [
       "Price_EUR\n",
       "4.500000e+04    50\n",
       "6.500000e+04    49\n",
       "5.500000e+04    48\n",
       "7.500000e+04    45\n",
       "3.500000e+04    42\n",
       "                ..\n",
       "1.203950e+06     1\n",
       "9.482759e+05     1\n",
       "1.222776e+06     1\n",
       "1.232966e+06     1\n",
       "3.705882e+03     1\n",
       "Name: count, Length: 2337, dtype: int64"
      ]
     },
     "execution_count": 51,
     "metadata": {},
     "output_type": "execute_result"
    }
   ],
   "source": [
    "# check frequency Price EUR\n",
    "\n",
    "df_filtered['Price_EUR'].value_counts()"
   ]
  },
  {
   "cell_type": "markdown",
   "metadata": {},
   "source": [
    "###### From this descriptive analysis all the values seems reasonable, reason why any further investigation does not seen necessary for now."
   ]
  },
  {
   "cell_type": "markdown",
   "metadata": {},
   "source": [
    "### 06. Exporting Data"
   ]
  },
  {
   "cell_type": "code",
   "execution_count": 52,
   "metadata": {},
   "outputs": [],
   "source": [
    "df_filtered.to_pickle(os.path.join(path, 'Prepared Data','Filtered_Boat_Sales.pkl'))"
   ]
  }
 ],
 "metadata": {
  "kernelspec": {
   "display_name": "base",
   "language": "python",
   "name": "python3"
  },
  "language_info": {
   "codemirror_mode": {
    "name": "ipython",
    "version": 3
   },
   "file_extension": ".py",
   "mimetype": "text/x-python",
   "name": "python",
   "nbconvert_exporter": "python",
   "pygments_lexer": "ipython3",
   "version": "3.11.7"
  }
 },
 "nbformat": 4,
 "nbformat_minor": 2
}
